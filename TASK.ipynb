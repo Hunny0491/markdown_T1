{
 "cells": [
  {
   "cell_type": "markdown",
   "id": "c11618ee-9572-4397-be37-b8fa94471d77",
   "metadata": {},
   "source": [
    "# TASK -1 'PYTHON'"
   ]
  },
  {
   "cell_type": "markdown",
   "id": "1465f1e6-10b5-4df7-ad90-8db85e0bad2b",
   "metadata": {},
   "source": [
    "### 1.ITALIC"
   ]
  },
  {
   "cell_type": "markdown",
   "id": "a4a09f36-13a8-40ca-9d9e-0a5e591800fc",
   "metadata": {},
   "source": [
    "*DEVANSHU*"
   ]
  },
  {
   "cell_type": "code",
   "execution_count": null,
   "id": "57dceb09-ee80-4ef1-bdf6-b167b69a1e82",
   "metadata": {},
   "outputs": [],
   "source": []
  },
  {
   "cell_type": "markdown",
   "id": "30f64a22-3027-4a3e-9410-e29a25d9d894",
   "metadata": {},
   "source": [
    "### 2.BOLD LETTERS"
   ]
  },
  {
   "cell_type": "markdown",
   "id": "3f8b5c26-947a-48ce-8a25-943f42d91955",
   "metadata": {},
   "source": [
    "**DATA ANALYST**"
   ]
  },
  {
   "cell_type": "code",
   "execution_count": null,
   "id": "d62e14d3-2d1b-4643-824a-b28b3a8b2cd6",
   "metadata": {},
   "outputs": [],
   "source": []
  },
  {
   "cell_type": "markdown",
   "id": "58082cb7-2b95-42a2-a92e-6d9ae3c7dcde",
   "metadata": {},
   "source": [
    "### 3.PRINT"
   ]
  },
  {
   "cell_type": "markdown",
   "id": "a0ff1d18-6d17-4480-be0f-140d7e12db7f",
   "metadata": {},
   "source": [
    "<pre>\n",
    "\"hello SIR\" \n",
    "<pre>"
   ]
  },
  {
   "cell_type": "code",
   "execution_count": null,
   "id": "2df8aa66-e9a1-48b2-bbe4-33a971c97960",
   "metadata": {},
   "outputs": [],
   "source": []
  },
  {
   "cell_type": "markdown",
   "id": "b5560b81-0a56-4b75-8972-17bb51ad13d7",
   "metadata": {},
   "source": [
    "### 4.BOLD & ITALIC"
   ]
  },
  {
   "cell_type": "markdown",
   "id": "09e8ff2c-b25a-4620-bc88-dbce57be58d8",
   "metadata": {},
   "source": [
    "This CLASS is ***really important***"
   ]
  },
  {
   "cell_type": "code",
   "execution_count": null,
   "id": "dacce6cc-6fa9-4b4b-93e0-8464bdb53044",
   "metadata": {},
   "outputs": [],
   "source": []
  },
  {
   "cell_type": "markdown",
   "id": "6ca87482-bb41-4a92-915c-f3a3e433926b",
   "metadata": {},
   "source": [
    "### 5.STRIKETHROUGH"
   ]
  },
  {
   "cell_type": "markdown",
   "id": "0607f3d0-6a00-4d2b-bb3c-3afefba6a500",
   "metadata": {},
   "source": [
    "~~PYTHON IS VERY IMPORTANT.~~"
   ]
  },
  {
   "cell_type": "code",
   "execution_count": null,
   "id": "b8c2fc88-8f0e-4441-a3c4-0f974380f40b",
   "metadata": {},
   "outputs": [],
   "source": []
  },
  {
   "cell_type": "markdown",
   "id": "417659c8-27ff-41f0-b3de-e8c6c79b43cf",
   "metadata": {},
   "source": [
    "### 6. PARICULAR TEXT HIGHLIGHT "
   ]
  },
  {
   "cell_type": "markdown",
   "id": "84a65764-6319-42ba-b5b5-2f774779fab8",
   "metadata": {},
   "source": [
    "STUDYING DEEPLY IS `ANALYST`"
   ]
  },
  {
   "cell_type": "raw",
   "id": "68db237b-2834-4677-ad8e-60ea8391d647",
   "metadata": {},
   "source": []
  },
  {
   "cell_type": "markdown",
   "id": "3c4c7bf2-fa85-4778-a212-9b58712ab610",
   "metadata": {},
   "source": [
    "### 7.TABLE"
   ]
  },
  {
   "cell_type": "markdown",
   "id": "130e9ecc-a61f-4cb4-841b-2bce2cb703b8",
   "metadata": {},
   "source": [
    "| PLAYER | PROFESSION | COUNTRY |\n",
    "| ----------- | ----------- | ---------- |\n",
    "| VIRAT KOHLI | CRICKET | INDIA |\n",
    "| C.RONALDO | FOOTBALL | PORTUGAL |\n",
    "| JORDAN | BASKETBALL | ENGLAND |"
   ]
  },
  {
   "cell_type": "code",
   "execution_count": null,
   "id": "4944548f-727f-4fc5-a308-f16125ccca69",
   "metadata": {},
   "outputs": [],
   "source": []
  },
  {
   "cell_type": "markdown",
   "id": "1a836817-4990-4c46-976a-dae9a07267d7",
   "metadata": {},
   "source": [
    "### 8.FONT COLOUR"
   ]
  },
  {
   "cell_type": "markdown",
   "id": "2f244c8d-88f8-4741-b169-6618f820a38f",
   "metadata": {},
   "source": [
    "<p style=\"color:red;\">\n",
    "INDIA\n",
    "</p>"
   ]
  },
  {
   "cell_type": "raw",
   "id": "30be788d-c5e6-4fc0-bc67-3e4b174f7684",
   "metadata": {},
   "source": []
  },
  {
   "cell_type": "markdown",
   "id": "50bc0fc6-a3ae-4809-a3af-ae30b1a01a81",
   "metadata": {},
   "source": [
    "### 9.CHECHBOX"
   ]
  },
  {
   "cell_type": "markdown",
   "id": "52fc0a86-1ba8-445a-99c3-3a32404ae2a6",
   "metadata": {},
   "source": [
    "- [x] HR\n",
    "- [ ] FINANCE\n",
    "- [ ] MARKETING\n",
    "- [x] BA\n",
    "- [ ] OPERATIONS"
   ]
  },
  {
   "cell_type": "raw",
   "id": "192d0467-5245-4951-8d72-352993f1af21",
   "metadata": {},
   "source": []
  },
  {
   "cell_type": "markdown",
   "id": "5a0a60bd-fa1e-44d0-93a8-d385d139e3d1",
   "metadata": {},
   "source": [
    "### 10.URL CREATION"
   ]
  },
  {
   "cell_type": "markdown",
   "id": "95cfb677-78fb-43d0-a4a3-d3e75e840698",
   "metadata": {},
   "source": [
    "http://www.DACLASS.com"
   ]
  },
  {
   "cell_type": "code",
   "execution_count": null,
   "id": "fa76a1b5-3ee4-41a8-aba7-6274611a2dc6",
   "metadata": {},
   "outputs": [],
   "source": []
  },
  {
   "cell_type": "markdown",
   "id": "064b7f09-d820-4dee-959b-fd8dc8511a81",
   "metadata": {},
   "source": [
    "### 11.IMAGE & VIDEOS"
   ]
  },
  {
   "cell_type": "markdown",
   "id": "981b2cd4-e75c-46ef-a633-485facb7aea5",
   "metadata": {},
   "source": [
    "#### click on img to see video"
   ]
  },
  {
   "cell_type": "markdown",
   "id": "48ceb0ef-496b-4979-8804-9412e49a720f",
   "metadata": {},
   "source": [
    "[![YouTrack — ARIJIT SINGH](https://encrypted-tbn0.gstatic.com/images?q=tbn:ANd9GcRfC6ZvMiez5sc0TpNImm4ZiJSHY0CKl2rdSA&s)](https://youtu.be/6d5SS0gS5bU?si=sT7_SYR9Wz2_IItc)"
   ]
  },
  {
   "cell_type": "code",
   "execution_count": null,
   "id": "1c1afd78-7510-415a-a88f-2da28805761a",
   "metadata": {},
   "outputs": [],
   "source": []
  },
  {
   "cell_type": "markdown",
   "id": "90e6bcd6-ccd2-4d34-a05b-cd5bbea067c9",
   "metadata": {},
   "source": [
    "### 12.GIF"
   ]
  },
  {
   "cell_type": "markdown",
   "id": "f9549825-3fd5-4049-a206-fe91f3500870",
   "metadata": {},
   "source": [
    "<img src=\"https://media1.giphy.com/media/a93jwI0wkWTQs/giphy.gif?cid=6c09b952cskg0rxo9wqpq0xa3obt4x1exryyl57v25qzuag2&ep=v1_gifs_search&rid=giphy.gif&ct=g\" />"
   ]
  },
  {
   "cell_type": "code",
   "execution_count": null,
   "id": "dbb9fda5-6f8a-4608-9c65-4b4ba7450bec",
   "metadata": {},
   "outputs": [],
   "source": []
  },
  {
   "cell_type": "markdown",
   "id": "aaecb7b5-400f-4220-8927-e31dfa5cbecb",
   "metadata": {},
   "source": [
    "### 13. ROW HIGHLIGHT"
   ]
  },
  {
   "cell_type": "markdown",
   "id": "12b4ff1e-2beb-4e33-8cca-d14201abb1ca",
   "metadata": {},
   "source": [
    "SUN IS HOT;\n",
    "\n",
    ">EARTH IS PLANET"
   ]
  },
  {
   "cell_type": "code",
   "execution_count": null,
   "id": "23d99747-2e86-4074-a845-8208991e0d0c",
   "metadata": {},
   "outputs": [],
   "source": []
  },
  {
   "cell_type": "markdown",
   "id": "d7982f56-a38c-435e-964b-dd48e831304b",
   "metadata": {},
   "source": [
    "### 14.BODMAS RULE AGGREGATIONS"
   ]
  },
  {
   "cell_type": "code",
   "execution_count": null,
   "id": "e5866f7a-672f-41e2-85e3-63472b7e33c6",
   "metadata": {},
   "outputs": [],
   "source": [
    "SIMPLE CALCULATION"
   ]
  },
  {
   "cell_type": "code",
   "execution_count": 136,
   "id": "8f33f0f9-6019-4d8d-b7e1-16256768afc2",
   "metadata": {},
   "outputs": [
    {
     "data": {
      "text/plain": [
       "123"
      ]
     },
     "execution_count": 136,
     "metadata": {},
     "output_type": "execute_result"
    }
   ],
   "source": [
    "25*5-2"
   ]
  },
  {
   "cell_type": "code",
   "execution_count": null,
   "id": "751dbc82-4186-4e88-98be-9b8f7e7b87bd",
   "metadata": {},
   "outputs": [],
   "source": [
    "WITH BODMAS"
   ]
  },
  {
   "cell_type": "code",
   "execution_count": 140,
   "id": "2e960eaa-22d0-4cf4-8631-bb3758667029",
   "metadata": {},
   "outputs": [
    {
     "data": {
      "text/plain": [
       "75"
      ]
     },
     "execution_count": 140,
     "metadata": {},
     "output_type": "execute_result"
    }
   ],
   "source": [
    "25*(5-2)"
   ]
  },
  {
   "cell_type": "code",
   "execution_count": null,
   "id": "5bffc297-b176-4883-9401-8954aeeb750c",
   "metadata": {},
   "outputs": [],
   "source": []
  },
  {
   "cell_type": "markdown",
   "id": "4a641fa8-24f0-4eab-9ca0-1f295509f1cb",
   "metadata": {},
   "source": [
    "### 15.HORIZANTAL RULE"
   ]
  },
  {
   "cell_type": "markdown",
   "id": "1541b0a3-b886-4d42-b8ad-17e301821674",
   "metadata": {},
   "source": [
    "----\n",
    "****\n",
    "____\n",
    "----\n",
    "****"
   ]
  }
 ],
 "metadata": {
  "kernelspec": {
   "display_name": "Python 3 (ipykernel)",
   "language": "python",
   "name": "python3"
  },
  "language_info": {
   "codemirror_mode": {
    "name": "ipython",
    "version": 3
   },
   "file_extension": ".py",
   "mimetype": "text/x-python",
   "name": "python",
   "nbconvert_exporter": "python",
   "pygments_lexer": "ipython3",
   "version": "3.12.4"
  }
 },
 "nbformat": 4,
 "nbformat_minor": 5
}
